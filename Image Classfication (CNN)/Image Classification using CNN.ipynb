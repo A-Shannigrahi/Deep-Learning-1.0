{
 "cells": [
  {
   "cell_type": "markdown",
   "metadata": {},
   "source": [
    "# Importing the Libraries"
   ]
  },
  {
   "cell_type": "code",
   "execution_count": 2,
   "metadata": {},
   "outputs": [],
   "source": [
    "import tensorflow as tf"
   ]
  },
  {
   "cell_type": "markdown",
   "metadata": {},
   "source": [
    "Tensorflow is deep learning library developed by Google. <br>\n",
    "Pytorch is another popular deep learning library developed by Facebook(Meta)"
   ]
  },
  {
   "cell_type": "code",
   "execution_count": 3,
   "metadata": {},
   "outputs": [
    {
     "data": {
      "text/plain": [
       "'2.2.0'"
      ]
     },
     "execution_count": 3,
     "metadata": {},
     "output_type": "execute_result"
    }
   ],
   "source": [
    "tf.__version__"
   ]
  },
  {
   "cell_type": "code",
   "execution_count": 4,
   "metadata": {},
   "outputs": [],
   "source": [
    "from keras.preprocessing.image import ImageDataGenerator"
   ]
  },
  {
   "cell_type": "markdown",
   "metadata": {},
   "source": [
    "Keras is deep learning library that provides python interface to artificial neural networks"
   ]
  },
  {
   "cell_type": "markdown",
   "metadata": {},
   "source": [
    "ImageDataGenerator is class in the submodule image which is used for data preprocessing"
   ]
  },
  {
   "cell_type": "markdown",
   "metadata": {},
   "source": [
    "# Data Preprocessing"
   ]
  },
  {
   "cell_type": "markdown",
   "metadata": {},
   "source": [
    "Applying transformation to the training dataset to prevent overfitting(Image Augmentation)"
   ]
  },
  {
   "cell_type": "markdown",
   "metadata": {},
   "source": [
    "Image Augmentation is a technique of applying different transformation to the original image <br>\n",
    "which results in multiple transformed copies of the same image.Each image is a bit different <br>\n",
    "in certain aspects due to the transfomation applied.\n"
   ]
  },
  {
   "cell_type": "markdown",
   "metadata": {},
   "source": [
    "Image Augmentation increases the size of the dataset and prevents overfitting."
   ]
  },
  {
   "cell_type": "markdown",
   "metadata": {},
   "source": [
    "ImageDataGenerator provides real time augmentation while the model is still training."
   ]
  },
  {
   "cell_type": "markdown",
   "metadata": {},
   "source": [
    "Assume training set has 10 images and batch size is 5.<br>\n",
    "Number of steps in each epoch is 2.<br>\n",
    "Assume Number of epochs is 2.<br>\n",
    "In 1st epoch 10 augmented images are created and 5 of them will be trained in Step 1 and another 5 in step 2.<br>\n",
    "In 2nd epoch another 10 augmented images are created and process is repeated.<br>\n"
   ]
  },
  {
   "cell_type": "markdown",
   "metadata": {},
   "source": [
    "In each epoch,the ImageDataGenerator applies a transformation on the images and the transformed images<br>                   for training the model. The transformations can include flips, shifts,brightness ,rotation, zooming, etc.<br>\n",
    "Thus new data is being created(data augmentation).Obviously the generated images are not completely different<br>              from the original ones.<br>\n",
    "\n",
    "Steps_per_epoch argument of fit method should be n_samples / batch_size, where n_samples is the total number      \n",
    "of training data you have (i.e. 8000 in this case). This way in each epoch, each training sample is augmented only one <br>   time and therefore 8000 transformed images will be generated in each epoch."
   ]
  },
  {
   "cell_type": "markdown",
   "metadata": {},
   "source": [
    "Augmentation means using a different transformation of each image  in each epoch <br>\n",
    "hence, if the model is trained for, say, 5 epochs, we have used 5 different versions<br>\n",
    "of each original image in training (or 8000 * 5 = 40000 different images in the whole training,<br>\n",
    "instead of using just the 8000 original images in thewhole training). "
   ]
  },
  {
   "cell_type": "code",
   "execution_count": 5,
   "metadata": {},
   "outputs": [],
   "source": [
    "training_set_data_generator=ImageDataGenerator(rescale=1./255,shear_range=0.2,zoom_range=0.2,horizontal_flip=True)"
   ]
  },
  {
   "cell_type": "markdown",
   "metadata": {},
   "source": [
    "rescale is used for standardization :divides the value of pixel by 255.<br>\n",
    "shear range,zoom range and horizontal flip are used for geometrical transformations"
   ]
  },
  {
   "cell_type": "code",
   "execution_count": 6,
   "metadata": {},
   "outputs": [
    {
     "name": "stdout",
     "output_type": "stream",
     "text": [
      "Found 8000 images belonging to 2 classes.\n"
     ]
    }
   ],
   "source": [
    "training_set=training_set_data_generator.flow_from_directory('dataset/training_set',target_size=(64,64),batch_size=32,class_mode=\"binary\")"
   ]
  },
  {
   "cell_type": "markdown",
   "metadata": {},
   "source": [
    "250 batches will be created due to batch size of 32."
   ]
  },
  {
   "cell_type": "code",
   "execution_count": 109,
   "metadata": {},
   "outputs": [
    {
     "name": "stdout",
     "output_type": "stream",
     "text": [
      "(32, 64, 64, 3)\n",
      "(32, 64, 64, 3)\n",
      "(32, 64, 64, 3)\n"
     ]
    }
   ],
   "source": [
    "print(training_set[0][0].shape)\n",
    "print(training_set[1][0].shape)\n",
    "print(training_set[249][0].shape)"
   ]
  },
  {
   "cell_type": "code",
   "execution_count": 101,
   "metadata": {},
   "outputs": [
    {
     "data": {
      "text/plain": [
       "4"
      ]
     },
     "execution_count": 101,
     "metadata": {},
     "output_type": "execute_result"
    }
   ],
   "source": [
    "training_set[0][0].ndim"
   ]
  },
  {
   "cell_type": "code",
   "execution_count": 85,
   "metadata": {},
   "outputs": [
    {
     "data": {
      "text/plain": [
       "(64, 64, 3)"
      ]
     },
     "execution_count": 85,
     "metadata": {},
     "output_type": "execute_result"
    }
   ],
   "source": [
    "training_set[0][0][0].shape"
   ]
  },
  {
   "cell_type": "markdown",
   "metadata": {},
   "source": [
    "There are 2 subdirectories in training_set. Each directory represents a particular class.<br>\n",
    "Target size (height,widht): Images will be resized to reduce computation time.<br>\n",
    "Class mode -> binary : Two categories are present."
   ]
  },
  {
   "cell_type": "code",
   "execution_count": 7,
   "metadata": {},
   "outputs": [],
   "source": [
    "testing_set_data_generator=ImageDataGenerator(rescale=1./255)"
   ]
  },
  {
   "cell_type": "code",
   "execution_count": 8,
   "metadata": {},
   "outputs": [
    {
     "name": "stdout",
     "output_type": "stream",
     "text": [
      "Found 2000 images belonging to 2 classes.\n"
     ]
    }
   ],
   "source": [
    "testing_set=testing_set_data_generator.flow_from_directory('dataset/test_set',target_size=(64,64),batch_size=32,class_mode=\"binary\")"
   ]
  },
  {
   "cell_type": "markdown",
   "metadata": {},
   "source": [
    "Transformations will be not applied to testing set."
   ]
  },
  {
   "cell_type": "markdown",
   "metadata": {},
   "source": [
    "Other methods in ImageDataGenerator class:<br>\n",
    "    apply_tranform (x,transform parameters) : x is 3D tensor (single image)<br>\n",
    "    flow<br>\n",
    "    flow_from_dataframe"
   ]
  },
  {
   "cell_type": "markdown",
   "metadata": {},
   "source": [
    "# Building the CNN"
   ]
  },
  {
   "cell_type": "code",
   "execution_count": 9,
   "metadata": {},
   "outputs": [],
   "source": [
    "cnn=tf.keras.models.Sequential()"
   ]
  },
  {
   "cell_type": "code",
   "execution_count": 10,
   "metadata": {},
   "outputs": [],
   "source": [
    "cnn.add(tf.keras.layers.Conv2D(filters=32,kernel_size=[3,3],strides=1,activation='relu',input_shape=[64,64,3]))"
   ]
  },
  {
   "cell_type": "markdown",
   "metadata": {},
   "source": [
    "filters:No of feature detectors <br>\n",
    "kernel size: dimension of feature detectors\n"
   ]
  },
  {
   "cell_type": "code",
   "execution_count": 11,
   "metadata": {},
   "outputs": [],
   "source": [
    "cnn.add(tf.keras.layers.MaxPool2D(strides=2,pool_size=2))\n"
   ]
  },
  {
   "cell_type": "markdown",
   "metadata": {},
   "source": [
    "Adding the second Convolutional Layer"
   ]
  },
  {
   "cell_type": "code",
   "execution_count": 12,
   "metadata": {},
   "outputs": [],
   "source": [
    "cnn.add(tf.keras.layers.Conv2D(filters=32,kernel_size=[3,3],strides=1,activation='relu'))"
   ]
  },
  {
   "cell_type": "code",
   "execution_count": 13,
   "metadata": {},
   "outputs": [],
   "source": [
    "cnn.add(tf.keras.layers.MaxPool2D(strides=2,pool_size=2))\n"
   ]
  },
  {
   "cell_type": "markdown",
   "metadata": {},
   "source": [
    "Pooling is important for identification of images irrespective of orientation,position,brightness,constrast etc.<br>\n",
    "Property of spatial invariance.<br>"
   ]
  },
  {
   "cell_type": "markdown",
   "metadata": {},
   "source": [
    "For a pool_size 2 using Max Pooling the maximum vakue is taken from each 2*2 grid.<br>\n",
    "Pooling thus discards irrelevant information and prevents overfitting."
   ]
  },
  {
   "cell_type": "markdown",
   "metadata": {},
   "source": [
    "Images are usually non-linear.On using convolution there is a risk of loosing non-linearity and thus rectifier function is used to add non-linearty."
   ]
  },
  {
   "cell_type": "code",
   "execution_count": 14,
   "metadata": {},
   "outputs": [],
   "source": [
    "cnn.add(tf.keras.layers.Flatten())"
   ]
  },
  {
   "cell_type": "markdown",
   "metadata": {},
   "source": [
    "Flattening to 1D vector form"
   ]
  },
  {
   "cell_type": "markdown",
   "metadata": {},
   "source": [
    "# Full Connection"
   ]
  },
  {
   "cell_type": "code",
   "execution_count": 15,
   "metadata": {},
   "outputs": [],
   "source": [
    "cnn.add(tf.keras.layers.Dense(units=128,activation=\"relu\"))"
   ]
  },
  {
   "cell_type": "markdown",
   "metadata": {},
   "source": [
    "units is the number of hidden neurons"
   ]
  },
  {
   "cell_type": "markdown",
   "metadata": {},
   "source": [
    "# Output Layer"
   ]
  },
  {
   "cell_type": "code",
   "execution_count": 16,
   "metadata": {},
   "outputs": [],
   "source": [
    "cnn.add(tf.keras.layers.Dense(units=1,activation=\"sigmoid\"))"
   ]
  },
  {
   "cell_type": "markdown",
   "metadata": {},
   "source": [
    "sigmoid activation function reduces the output value in range of 0 to 1."
   ]
  },
  {
   "cell_type": "markdown",
   "metadata": {},
   "source": [
    "# Training the CNN"
   ]
  },
  {
   "cell_type": "code",
   "execution_count": 17,
   "metadata": {},
   "outputs": [],
   "source": [
    "cnn.compile(optimizer=\"adam\",loss=\"binary_crossentropy\",metrics=['accuracy'])"
   ]
  },
  {
   "cell_type": "code",
   "execution_count": 18,
   "metadata": {},
   "outputs": [
    {
     "name": "stdout",
     "output_type": "stream",
     "text": [
      "Epoch 1/16\n",
      "250/250 [==============================] - 83s 332ms/step - loss: 0.6554 - accuracy: 0.6030 - val_loss: 0.6374 - val_accuracy: 0.6442\n",
      "Epoch 2/16\n",
      "250/250 [==============================] - 90s 359ms/step - loss: 0.5882 - accuracy: 0.6869 - val_loss: 0.5838 - val_accuracy: 0.6895\n",
      "Epoch 3/16\n",
      "250/250 [==============================] - 81s 323ms/step - loss: 0.5491 - accuracy: 0.7175 - val_loss: 0.5125 - val_accuracy: 0.7591\n",
      "Epoch 4/16\n",
      "250/250 [==============================] - 85s 339ms/step - loss: 0.5263 - accuracy: 0.7327 - val_loss: 0.5122 - val_accuracy: 0.7545\n",
      "Epoch 5/16\n",
      "250/250 [==============================] - 94s 375ms/step - loss: 0.4995 - accuracy: 0.7620 - val_loss: 0.5297 - val_accuracy: 0.7404\n",
      "Epoch 6/16\n",
      "250/250 [==============================] - 104s 416ms/step - loss: 0.4804 - accuracy: 0.7626 - val_loss: 0.4843 - val_accuracy: 0.7732\n",
      "Epoch 7/16\n",
      "250/250 [==============================] - 98s 394ms/step - loss: 0.4633 - accuracy: 0.7779 - val_loss: 0.4676 - val_accuracy: 0.7712\n",
      "Epoch 8/16\n",
      "250/250 [==============================] - 99s 396ms/step - loss: 0.4579 - accuracy: 0.7820 - val_loss: 0.4779 - val_accuracy: 0.7737\n",
      "Epoch 9/16\n",
      "250/250 [==============================] - 95s 381ms/step - loss: 0.4283 - accuracy: 0.8009 - val_loss: 0.4801 - val_accuracy: 0.7782\n",
      "Epoch 10/16\n",
      "250/250 [==============================] - 84s 337ms/step - loss: 0.4201 - accuracy: 0.8104 - val_loss: 0.4649 - val_accuracy: 0.7878\n",
      "Epoch 11/16\n",
      "250/250 [==============================] - 86s 343ms/step - loss: 0.4028 - accuracy: 0.8109 - val_loss: 0.4688 - val_accuracy: 0.7888\n",
      "Epoch 12/16\n",
      "250/250 [==============================] - 83s 330ms/step - loss: 0.3994 - accuracy: 0.8206 - val_loss: 0.4890 - val_accuracy: 0.7676\n",
      "Epoch 13/16\n",
      "250/250 [==============================] - 88s 353ms/step - loss: 0.3821 - accuracy: 0.8275 - val_loss: 0.5403 - val_accuracy: 0.7520\n",
      "Epoch 14/16\n",
      "250/250 [==============================] - 84s 335ms/step - loss: 0.3691 - accuracy: 0.8328 - val_loss: 0.4527 - val_accuracy: 0.7873\n",
      "Epoch 15/16\n",
      "250/250 [==============================] - 93s 373ms/step - loss: 0.3558 - accuracy: 0.8441 - val_loss: 0.4532 - val_accuracy: 0.8070\n",
      "Epoch 16/16\n",
      "250/250 [==============================] - 84s 337ms/step - loss: 0.3401 - accuracy: 0.8504 - val_loss: 0.4566 - val_accuracy: 0.7903\n"
     ]
    },
    {
     "data": {
      "text/plain": [
       "<tensorflow.python.keras.callbacks.History at 0x164c9bdc8c8>"
      ]
     },
     "execution_count": 18,
     "metadata": {},
     "output_type": "execute_result"
    }
   ],
   "source": [
    "cnn.fit(training_set, epochs=16, validation_data=testing_set,steps_per_epoch=250,validation_steps=62)"
   ]
  },
  {
   "cell_type": "markdown",
   "metadata": {},
   "source": [
    "steps_per_epoch needs to mentioned due to using data augmentation while training the model."
   ]
  },
  {
   "cell_type": "markdown",
   "metadata": {},
   "source": [
    "# Single Prediction"
   ]
  },
  {
   "cell_type": "code",
   "execution_count": 186,
   "metadata": {},
   "outputs": [],
   "source": [
    "import numpy as np\n",
    "from keras.preprocessing import image\n",
    "test_image_1=image.load_img('dataset/single_prediction/Classify_01.jpg',target_size=(64,64))"
   ]
  },
  {
   "cell_type": "code",
   "execution_count": 187,
   "metadata": {},
   "outputs": [
    {
     "data": {
      "image/png": "[encoded data removed]",
      "text/plain": [
       "<PIL.Image.Image image mode=RGB size=64x64 at 0x164C00A9108>"
      ]
     },
     "execution_count": 187,
     "metadata": {},
     "output_type": "execute_result"
    }
   ],
   "source": [
    "test_image_1"
   ]
  },
  {
   "cell_type": "code",
   "execution_count": 188,
   "metadata": {},
   "outputs": [],
   "source": [
    "test_image_2=image.load_img('dataset/single_prediction/Classify_02.jpg',target_size=(64,64))"
   ]
  },
  {
   "cell_type": "code",
   "execution_count": 189,
   "metadata": {},
   "outputs": [
    {
     "data": {
      "image/png": "[encoded data removed]",
      "text/plain": [
       "<PIL.Image.Image image mode=RGB size=64x64 at 0x164D2E7EB08>"
      ]
     },
     "execution_count": 189,
     "metadata": {},
     "output_type": "execute_result"
    }
   ],
   "source": [
    "test_image_2"
   ]
  },
  {
   "cell_type": "code",
   "execution_count": 190,
   "metadata": {},
   "outputs": [
    {
     "data": {
      "text/plain": [
       "(64, 64, 3)"
      ]
     },
     "execution_count": 190,
     "metadata": {},
     "output_type": "execute_result"
    }
   ],
   "source": [
    "test_image_1=image.img_to_array(test_image_1)\n",
    "test_image_1.shape"
   ]
  },
  {
   "cell_type": "code",
   "execution_count": 191,
   "metadata": {},
   "outputs": [
    {
     "data": {
      "text/plain": [
       "(64, 64, 3)"
      ]
     },
     "execution_count": 191,
     "metadata": {},
     "output_type": "execute_result"
    }
   ],
   "source": [
    "test_image_2=image.img_to_array(test_image_2)\n",
    "test_image_2.shape"
   ]
  },
  {
   "cell_type": "code",
   "execution_count": 192,
   "metadata": {},
   "outputs": [
    {
     "data": {
      "text/plain": [
       "array([[[ 54.,  58.,   7.],\n",
       "        [ 58.,  63.,   9.],\n",
       "        [ 64.,  67.,  10.],\n",
       "        ...,\n",
       "        [136., 144.,  71.],\n",
       "        [140., 150.,  77.],\n",
       "        [139., 149.,  78.]],\n",
       "\n",
       "       [[ 48.,  54.,   6.],\n",
       "        [ 51.,  58.,   7.],\n",
       "        [ 58.,  63.,   9.],\n",
       "        ...,\n",
       "        [129., 137.,  64.],\n",
       "        [139., 149.,  78.],\n",
       "        [141., 151.,  80.]],\n",
       "\n",
       "       [[ 48.,  56.,   7.],\n",
       "        [ 48.,  56.,   7.],\n",
       "        [ 54.,  61.,  10.],\n",
       "        ...,\n",
       "        [123., 129.,  65.],\n",
       "        [136., 145.,  80.],\n",
       "        [140., 149.,  82.]],\n",
       "\n",
       "       ...,\n",
       "\n",
       "       [[ 46.,  55.,  12.],\n",
       "        [ 42.,  50.,  11.],\n",
       "        [ 38.,  49.,   9.],\n",
       "        ...,\n",
       "        [239., 205., 170.],\n",
       "        [235., 209., 186.],\n",
       "        [231., 201., 173.]],\n",
       "\n",
       "       [[ 50.,  57.,  13.],\n",
       "        [ 42.,  50.,  11.],\n",
       "        [ 44.,  52.,  11.],\n",
       "        ...,\n",
       "        [234., 200., 163.],\n",
       "        [236., 206., 178.],\n",
       "        [234., 203., 175.]],\n",
       "\n",
       "       [[ 53.,  59.,  13.],\n",
       "        [ 43.,  51.,  10.],\n",
       "        [ 49.,  56.,  12.],\n",
       "        ...,\n",
       "        [233., 195., 159.],\n",
       "        [235., 213., 190.],\n",
       "        [233., 206., 179.]]], dtype=float32)"
      ]
     },
     "execution_count": 192,
     "metadata": {},
     "output_type": "execute_result"
    }
   ],
   "source": [
    "test_image_1"
   ]
  },
  {
   "cell_type": "code",
   "execution_count": 193,
   "metadata": {},
   "outputs": [
    {
     "data": {
      "text/plain": [
       "{'cats': 0, 'dogs': 1}"
      ]
     },
     "execution_count": 193,
     "metadata": {},
     "output_type": "execute_result"
    }
   ],
   "source": [
    "training_set.class_indices"
   ]
  },
  {
   "cell_type": "code",
   "execution_count": 195,
   "metadata": {},
   "outputs": [
    {
     "data": {
      "text/plain": [
       "3"
      ]
     },
     "execution_count": 195,
     "metadata": {},
     "output_type": "execute_result"
    }
   ],
   "source": [
    "test_image_1.ndim"
   ]
  },
  {
   "cell_type": "markdown",
   "metadata": {},
   "source": [
    "During preprocessing the model was trained on batches of 32 images and thus there is an extra dimension corresponding to the batch<br>\n",
    "Thus when we predict on a single image the extra dimension has to be added(using expand_dims)"
   ]
  },
  {
   "cell_type": "code",
   "execution_count": 196,
   "metadata": {},
   "outputs": [],
   "source": [
    "def prediction(test_image):\n",
    "    test_image=test_image/255.0\n",
    "    test_image=np.expand_dims(test_image,axis=0)\n",
    "    result=cnn.predict(test_image)\n",
    "    if result[0][0]>=0.5:\n",
    "        print(\"Dog\")\n",
    "    else:\n",
    "        print(\"Cat\")"
   ]
  },
  {
   "cell_type": "code",
   "execution_count": 197,
   "metadata": {},
   "outputs": [
    {
     "name": "stdout",
     "output_type": "stream",
     "text": [
      "Dog\n"
     ]
    }
   ],
   "source": [
    "prediction(test_image_1)"
   ]
  },
  {
   "cell_type": "code",
   "execution_count": 198,
   "metadata": {},
   "outputs": [
    {
     "name": "stdout",
     "output_type": "stream",
     "text": [
      "Cat\n"
     ]
    }
   ],
   "source": [
    "prediction(test_image_2)"
   ]
  },
  {
   "cell_type": "code",
   "execution_count": null,
   "metadata": {},
   "outputs": [],
   "source": []
  }
 ],
 "metadata": {
  "kernelspec": {
   "display_name": "Python [conda env:py3-TF2.0]",
   "language": "python",
   "name": "conda-env-py3-TF2.0-py"
  }
 },
 "nbformat": 4,
 "nbformat_minor": 4
}
